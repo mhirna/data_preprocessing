{
 "cells": [
  {
   "cell_type": "code",
   "execution_count": 1,
   "metadata": {},
   "outputs": [],
   "source": [
    "import pandas as pd\n",
    "import numpy as np"
   ]
  },
  {
   "cell_type": "markdown",
   "metadata": {},
   "source": [
    "### 1.1. Download the dataset from Ukrainian Open Data Portal (dataset)."
   ]
  },
  {
   "cell_type": "code",
   "execution_count": 2,
   "metadata": {},
   "outputs": [],
   "source": [
    "df = pd.read_csv(\"data_1.csv\", sep=\";\")"
   ]
  },
  {
   "cell_type": "markdown",
   "metadata": {},
   "source": [
    "### 1.2. Read the data, remove quotes, trailing whitespaces and tabs."
   ]
  },
  {
   "cell_type": "code",
   "execution_count": 3,
   "metadata": {},
   "outputs": [
    {
     "data": {
      "text/html": [
       "<div>\n",
       "<style scoped>\n",
       "    .dataframe tbody tr th:only-of-type {\n",
       "        vertical-align: middle;\n",
       "    }\n",
       "\n",
       "    .dataframe tbody tr th {\n",
       "        vertical-align: top;\n",
       "    }\n",
       "\n",
       "    .dataframe thead th {\n",
       "        text-align: right;\n",
       "    }\n",
       "</style>\n",
       "<table border=\"1\" class=\"dataframe\">\n",
       "  <thead>\n",
       "    <tr style=\"text-align: right;\">\n",
       "      <th></th>\n",
       "      <th>person</th>\n",
       "      <th>reg_addr_koatuu</th>\n",
       "      <th>oper_code</th>\n",
       "      <th>oper_name</th>\n",
       "      <th>d_reg</th>\n",
       "      <th>dep_code</th>\n",
       "      <th>dep</th>\n",
       "      <th>brand</th>\n",
       "      <th>model</th>\n",
       "      <th>make_year</th>\n",
       "      <th>color</th>\n",
       "      <th>kind</th>\n",
       "      <th>body</th>\n",
       "      <th>purpose</th>\n",
       "      <th>fuel</th>\n",
       "      <th>capacity</th>\n",
       "      <th>own_weight</th>\n",
       "      <th>total_weight</th>\n",
       "      <th>n_reg_new</th>\n",
       "    </tr>\n",
       "  </thead>\n",
       "  <tbody>\n",
       "    <tr>\n",
       "      <th>0</th>\n",
       "      <td>P</td>\n",
       "      <td>2.310136e+09</td>\n",
       "      <td>530</td>\n",
       "      <td>530 - ЗНЯТТЯ З ОБЛIКУ ДЛЯ РЕАЛIЗАЦIЇ</td>\n",
       "      <td>2017-01-03</td>\n",
       "      <td>2341</td>\n",
       "      <td>Центр 2341</td>\n",
       "      <td>ВАЗ  210700-20</td>\n",
       "      <td>210700-20</td>\n",
       "      <td>2008</td>\n",
       "      <td>ЗЕЛЕНИЙ</td>\n",
       "      <td>ЛЕГКОВИЙ</td>\n",
       "      <td>СЕДАН-B</td>\n",
       "      <td>ЗАГАЛЬНИЙ</td>\n",
       "      <td>БЕНЗИН</td>\n",
       "      <td>1451.0</td>\n",
       "      <td>1060.0</td>\n",
       "      <td>1460.0</td>\n",
       "      <td>08ВА8008</td>\n",
       "    </tr>\n",
       "    <tr>\n",
       "      <th>1</th>\n",
       "      <td>P</td>\n",
       "      <td>1.210138e+09</td>\n",
       "      <td>99</td>\n",
       "      <td>99 - ПЕРВИННА РЕЄСТРАЦІЯ ТЗ ПРИДБАНОГО В ТОРГІ...</td>\n",
       "      <td>2017-01-03</td>\n",
       "      <td>1248</td>\n",
       "      <td>Центр 1248</td>\n",
       "      <td>ПА  004</td>\n",
       "      <td>004</td>\n",
       "      <td>2015</td>\n",
       "      <td>ЗЕЛЕНИЙ</td>\n",
       "      <td>ПРИЧІП</td>\n",
       "      <td>ПР-ЛЕГКОВИЙ-B</td>\n",
       "      <td>ЗАГАЛЬНИЙ</td>\n",
       "      <td>NaN</td>\n",
       "      <td>NaN</td>\n",
       "      <td>190.0</td>\n",
       "      <td>700.0</td>\n",
       "      <td>АЕ3999ХМ</td>\n",
       "    </tr>\n",
       "    <tr>\n",
       "      <th>2</th>\n",
       "      <td>P</td>\n",
       "      <td>7.101000e+08</td>\n",
       "      <td>315</td>\n",
       "      <td>315 - ПЕРЕРЕЄСТРАЦІЯ ТЗ НА НОВ. ВЛАСН. ПО ДОГО...</td>\n",
       "      <td>2017-01-03</td>\n",
       "      <td>741</td>\n",
       "      <td>Центр 0741</td>\n",
       "      <td>SCHMITZ  SPR 24L</td>\n",
       "      <td>SPR 24L</td>\n",
       "      <td>2003</td>\n",
       "      <td>ЧЕРВОНИЙ</td>\n",
       "      <td>НАПІВПРИЧІП</td>\n",
       "      <td>Н/ПР-БОРТОВИЙ-E</td>\n",
       "      <td>ЗАГАЛЬНИЙ</td>\n",
       "      <td>NaN</td>\n",
       "      <td>NaN</td>\n",
       "      <td>6694.0</td>\n",
       "      <td>35000.0</td>\n",
       "      <td>АС3826ХТ</td>\n",
       "    </tr>\n",
       "    <tr>\n",
       "      <th>3</th>\n",
       "      <td>P</td>\n",
       "      <td>7.101000e+08</td>\n",
       "      <td>315</td>\n",
       "      <td>315 - ПЕРЕРЕЄСТРАЦІЯ ТЗ НА НОВ. ВЛАСН. ПО ДОГО...</td>\n",
       "      <td>2017-01-03</td>\n",
       "      <td>741</td>\n",
       "      <td>Центр 0741</td>\n",
       "      <td>RENAULT  PREMIUM 420</td>\n",
       "      <td>PREMIUM 420</td>\n",
       "      <td>2004</td>\n",
       "      <td>БІЛИЙ</td>\n",
       "      <td>ВАНТАЖНИЙ</td>\n",
       "      <td>СІДЛОВИЙ ТЯГАЧ-E</td>\n",
       "      <td>СПЕЦІАЛІЗОВАНИЙ</td>\n",
       "      <td>ДИЗЕЛЬНЕ ПАЛИВО</td>\n",
       "      <td>11116.0</td>\n",
       "      <td>10880.0</td>\n",
       "      <td>24000.0</td>\n",
       "      <td>АС4142ВЕ</td>\n",
       "    </tr>\n",
       "    <tr>\n",
       "      <th>4</th>\n",
       "      <td>P</td>\n",
       "      <td>7.101000e+08</td>\n",
       "      <td>315</td>\n",
       "      <td>315 - ПЕРЕРЕЄСТРАЦІЯ ТЗ НА НОВ. ВЛАСН. ПО ДОГО...</td>\n",
       "      <td>2017-01-03</td>\n",
       "      <td>741</td>\n",
       "      <td>Центр 0741</td>\n",
       "      <td>WIELTON  PC16K</td>\n",
       "      <td>PC16K</td>\n",
       "      <td>2004</td>\n",
       "      <td>СІРИЙ</td>\n",
       "      <td>ПРИЧІП</td>\n",
       "      <td>ПР-БОРТОВИЙ-ТЕНТОВАНИЙ</td>\n",
       "      <td>ЗАГАЛЬНИЙ</td>\n",
       "      <td>NaN</td>\n",
       "      <td>NaN</td>\n",
       "      <td>5050.0</td>\n",
       "      <td>18000.0</td>\n",
       "      <td>АС0397ХТ</td>\n",
       "    </tr>\n",
       "  </tbody>\n",
       "</table>\n",
       "</div>"
      ],
      "text/plain": [
       "  person  reg_addr_koatuu  oper_code  \\\n",
       "0      P     2.310136e+09        530   \n",
       "1      P     1.210138e+09         99   \n",
       "2      P     7.101000e+08        315   \n",
       "3      P     7.101000e+08        315   \n",
       "4      P     7.101000e+08        315   \n",
       "\n",
       "                                           oper_name       d_reg  dep_code  \\\n",
       "0               530 - ЗНЯТТЯ З ОБЛIКУ ДЛЯ РЕАЛIЗАЦIЇ  2017-01-03      2341   \n",
       "1  99 - ПЕРВИННА РЕЄСТРАЦІЯ ТЗ ПРИДБАНОГО В ТОРГІ...  2017-01-03      1248   \n",
       "2  315 - ПЕРЕРЕЄСТРАЦІЯ ТЗ НА НОВ. ВЛАСН. ПО ДОГО...  2017-01-03       741   \n",
       "3  315 - ПЕРЕРЕЄСТРАЦІЯ ТЗ НА НОВ. ВЛАСН. ПО ДОГО...  2017-01-03       741   \n",
       "4  315 - ПЕРЕРЕЄСТРАЦІЯ ТЗ НА НОВ. ВЛАСН. ПО ДОГО...  2017-01-03       741   \n",
       "\n",
       "          dep                 brand        model  make_year     color  \\\n",
       "0  Центр 2341        ВАЗ  210700-20    210700-20       2008   ЗЕЛЕНИЙ   \n",
       "1  Центр 1248               ПА  004          004       2015   ЗЕЛЕНИЙ   \n",
       "2  Центр 0741      SCHMITZ  SPR 24L      SPR 24L       2003  ЧЕРВОНИЙ   \n",
       "3  Центр 0741  RENAULT  PREMIUM 420  PREMIUM 420       2004     БІЛИЙ   \n",
       "4  Центр 0741        WIELTON  PC16K        PC16K       2004     СІРИЙ   \n",
       "\n",
       "          kind                    body          purpose             fuel  \\\n",
       "0     ЛЕГКОВИЙ                 СЕДАН-B        ЗАГАЛЬНИЙ           БЕНЗИН   \n",
       "1       ПРИЧІП           ПР-ЛЕГКОВИЙ-B        ЗАГАЛЬНИЙ              NaN   \n",
       "2  НАПІВПРИЧІП         Н/ПР-БОРТОВИЙ-E        ЗАГАЛЬНИЙ              NaN   \n",
       "3    ВАНТАЖНИЙ        СІДЛОВИЙ ТЯГАЧ-E  СПЕЦІАЛІЗОВАНИЙ  ДИЗЕЛЬНЕ ПАЛИВО   \n",
       "4       ПРИЧІП  ПР-БОРТОВИЙ-ТЕНТОВАНИЙ        ЗАГАЛЬНИЙ              NaN   \n",
       "\n",
       "   capacity  own_weight  total_weight n_reg_new  \n",
       "0    1451.0      1060.0        1460.0  08ВА8008  \n",
       "1       NaN       190.0         700.0  АЕ3999ХМ  \n",
       "2       NaN      6694.0       35000.0  АС3826ХТ  \n",
       "3   11116.0     10880.0       24000.0  АС4142ВЕ  \n",
       "4       NaN      5050.0       18000.0  АС0397ХТ  "
      ]
     },
     "execution_count": 3,
     "metadata": {},
     "output_type": "execute_result"
    }
   ],
   "source": [
    "df.head()"
   ]
  },
  {
   "cell_type": "markdown",
   "metadata": {},
   "source": [
    "### 1.3. Find and remove duplicates (if any),"
   ]
  },
  {
   "cell_type": "code",
   "execution_count": 4,
   "metadata": {},
   "outputs": [],
   "source": [
    "df = df.drop_duplicates().reset_index().drop(columns=[\"index\"])"
   ]
  },
  {
   "cell_type": "markdown",
   "metadata": {},
   "source": [
    "### 1.4. Save a dictionary of unique operation codes and its meanings in external file (op_codes.txt). Column oper_name is redundant and we probably won’t need it in our data analysis, but it could be a good reference to better understand our data. Drop this column and think about any other redundant columns. If you find any, explain why you think of them being redundant?"
   ]
  },
  {
   "cell_type": "code",
   "execution_count": 5,
   "metadata": {},
   "outputs": [],
   "source": [
    "# Create a list of unique names\n",
    "op_mean = list(set(df.oper_name))"
   ]
  },
  {
   "cell_type": "code",
   "execution_count": 6,
   "metadata": {},
   "outputs": [
    {
     "data": {
      "text/plain": [
       "'401 - ПЕРЕРЕЄСТРАЦІЯ ТЗ ПРИ ПЕРЕОБЛАДНАННІ ІЗ ЗАМІНОЮ КУЗОВА (ШАСІ) ЗА ПОГОДЖЕННЯМ З ВИРОБНИКОМ, ДП ДЕРЖАВТОТРАНСНДІПРОЕКТ ЧИ ГСЦ МВС'"
      ]
     },
     "execution_count": 6,
     "metadata": {},
     "output_type": "execute_result"
    }
   ],
   "source": [
    "op_mean[0]"
   ]
  },
  {
   "cell_type": "code",
   "execution_count": 7,
   "metadata": {},
   "outputs": [],
   "source": [
    "op_dict = {}\n",
    "for pair in [op.split(\" - \") for op in op_mean]:\n",
    "    op_dict[pair[0]] = pair[1]"
   ]
  },
  {
   "cell_type": "code",
   "execution_count": 8,
   "metadata": {},
   "outputs": [],
   "source": [
    "# Save dictionary to .txt file\n",
    "f = open(\"op_codes.txt\",\"w\")\n",
    "f.write(str(op_dict))\n",
    "f.close()"
   ]
  },
  {
   "cell_type": "code",
   "execution_count": 9,
   "metadata": {},
   "outputs": [],
   "source": [
    "df = df.drop(columns=[\"oper_code\", \"oper_name\"])"
   ]
  },
  {
   "cell_type": "code",
   "execution_count": 10,
   "metadata": {
    "scrolled": true
   },
   "outputs": [
    {
     "data": {
      "text/html": [
       "<div>\n",
       "<style scoped>\n",
       "    .dataframe tbody tr th:only-of-type {\n",
       "        vertical-align: middle;\n",
       "    }\n",
       "\n",
       "    .dataframe tbody tr th {\n",
       "        vertical-align: top;\n",
       "    }\n",
       "\n",
       "    .dataframe thead th {\n",
       "        text-align: right;\n",
       "    }\n",
       "</style>\n",
       "<table border=\"1\" class=\"dataframe\">\n",
       "  <thead>\n",
       "    <tr style=\"text-align: right;\">\n",
       "      <th></th>\n",
       "      <th>person</th>\n",
       "      <th>reg_addr_koatuu</th>\n",
       "      <th>d_reg</th>\n",
       "      <th>dep_code</th>\n",
       "      <th>dep</th>\n",
       "      <th>brand</th>\n",
       "      <th>model</th>\n",
       "      <th>make_year</th>\n",
       "      <th>color</th>\n",
       "      <th>kind</th>\n",
       "      <th>body</th>\n",
       "      <th>purpose</th>\n",
       "      <th>fuel</th>\n",
       "      <th>capacity</th>\n",
       "      <th>own_weight</th>\n",
       "      <th>total_weight</th>\n",
       "      <th>n_reg_new</th>\n",
       "    </tr>\n",
       "  </thead>\n",
       "  <tbody>\n",
       "    <tr>\n",
       "      <th>0</th>\n",
       "      <td>P</td>\n",
       "      <td>2.310136e+09</td>\n",
       "      <td>2017-01-03</td>\n",
       "      <td>2341</td>\n",
       "      <td>Центр 2341</td>\n",
       "      <td>ВАЗ  210700-20</td>\n",
       "      <td>210700-20</td>\n",
       "      <td>2008</td>\n",
       "      <td>ЗЕЛЕНИЙ</td>\n",
       "      <td>ЛЕГКОВИЙ</td>\n",
       "      <td>СЕДАН-B</td>\n",
       "      <td>ЗАГАЛЬНИЙ</td>\n",
       "      <td>БЕНЗИН</td>\n",
       "      <td>1451.0</td>\n",
       "      <td>1060.0</td>\n",
       "      <td>1460.0</td>\n",
       "      <td>08ВА8008</td>\n",
       "    </tr>\n",
       "    <tr>\n",
       "      <th>1</th>\n",
       "      <td>P</td>\n",
       "      <td>1.210138e+09</td>\n",
       "      <td>2017-01-03</td>\n",
       "      <td>1248</td>\n",
       "      <td>Центр 1248</td>\n",
       "      <td>ПА  004</td>\n",
       "      <td>004</td>\n",
       "      <td>2015</td>\n",
       "      <td>ЗЕЛЕНИЙ</td>\n",
       "      <td>ПРИЧІП</td>\n",
       "      <td>ПР-ЛЕГКОВИЙ-B</td>\n",
       "      <td>ЗАГАЛЬНИЙ</td>\n",
       "      <td>NaN</td>\n",
       "      <td>NaN</td>\n",
       "      <td>190.0</td>\n",
       "      <td>700.0</td>\n",
       "      <td>АЕ3999ХМ</td>\n",
       "    </tr>\n",
       "    <tr>\n",
       "      <th>2</th>\n",
       "      <td>P</td>\n",
       "      <td>7.101000e+08</td>\n",
       "      <td>2017-01-03</td>\n",
       "      <td>741</td>\n",
       "      <td>Центр 0741</td>\n",
       "      <td>SCHMITZ  SPR 24L</td>\n",
       "      <td>SPR 24L</td>\n",
       "      <td>2003</td>\n",
       "      <td>ЧЕРВОНИЙ</td>\n",
       "      <td>НАПІВПРИЧІП</td>\n",
       "      <td>Н/ПР-БОРТОВИЙ-E</td>\n",
       "      <td>ЗАГАЛЬНИЙ</td>\n",
       "      <td>NaN</td>\n",
       "      <td>NaN</td>\n",
       "      <td>6694.0</td>\n",
       "      <td>35000.0</td>\n",
       "      <td>АС3826ХТ</td>\n",
       "    </tr>\n",
       "    <tr>\n",
       "      <th>3</th>\n",
       "      <td>P</td>\n",
       "      <td>7.101000e+08</td>\n",
       "      <td>2017-01-03</td>\n",
       "      <td>741</td>\n",
       "      <td>Центр 0741</td>\n",
       "      <td>RENAULT  PREMIUM 420</td>\n",
       "      <td>PREMIUM 420</td>\n",
       "      <td>2004</td>\n",
       "      <td>БІЛИЙ</td>\n",
       "      <td>ВАНТАЖНИЙ</td>\n",
       "      <td>СІДЛОВИЙ ТЯГАЧ-E</td>\n",
       "      <td>СПЕЦІАЛІЗОВАНИЙ</td>\n",
       "      <td>ДИЗЕЛЬНЕ ПАЛИВО</td>\n",
       "      <td>11116.0</td>\n",
       "      <td>10880.0</td>\n",
       "      <td>24000.0</td>\n",
       "      <td>АС4142ВЕ</td>\n",
       "    </tr>\n",
       "    <tr>\n",
       "      <th>4</th>\n",
       "      <td>P</td>\n",
       "      <td>7.101000e+08</td>\n",
       "      <td>2017-01-03</td>\n",
       "      <td>741</td>\n",
       "      <td>Центр 0741</td>\n",
       "      <td>WIELTON  PC16K</td>\n",
       "      <td>PC16K</td>\n",
       "      <td>2004</td>\n",
       "      <td>СІРИЙ</td>\n",
       "      <td>ПРИЧІП</td>\n",
       "      <td>ПР-БОРТОВИЙ-ТЕНТОВАНИЙ</td>\n",
       "      <td>ЗАГАЛЬНИЙ</td>\n",
       "      <td>NaN</td>\n",
       "      <td>NaN</td>\n",
       "      <td>5050.0</td>\n",
       "      <td>18000.0</td>\n",
       "      <td>АС0397ХТ</td>\n",
       "    </tr>\n",
       "  </tbody>\n",
       "</table>\n",
       "</div>"
      ],
      "text/plain": [
       "  person  reg_addr_koatuu       d_reg  dep_code         dep  \\\n",
       "0      P     2.310136e+09  2017-01-03      2341  Центр 2341   \n",
       "1      P     1.210138e+09  2017-01-03      1248  Центр 1248   \n",
       "2      P     7.101000e+08  2017-01-03       741  Центр 0741   \n",
       "3      P     7.101000e+08  2017-01-03       741  Центр 0741   \n",
       "4      P     7.101000e+08  2017-01-03       741  Центр 0741   \n",
       "\n",
       "                  brand        model  make_year     color         kind  \\\n",
       "0        ВАЗ  210700-20    210700-20       2008   ЗЕЛЕНИЙ     ЛЕГКОВИЙ   \n",
       "1               ПА  004          004       2015   ЗЕЛЕНИЙ       ПРИЧІП   \n",
       "2      SCHMITZ  SPR 24L      SPR 24L       2003  ЧЕРВОНИЙ  НАПІВПРИЧІП   \n",
       "3  RENAULT  PREMIUM 420  PREMIUM 420       2004     БІЛИЙ    ВАНТАЖНИЙ   \n",
       "4        WIELTON  PC16K        PC16K       2004     СІРИЙ       ПРИЧІП   \n",
       "\n",
       "                     body          purpose             fuel  capacity  \\\n",
       "0                 СЕДАН-B        ЗАГАЛЬНИЙ           БЕНЗИН    1451.0   \n",
       "1           ПР-ЛЕГКОВИЙ-B        ЗАГАЛЬНИЙ              NaN       NaN   \n",
       "2         Н/ПР-БОРТОВИЙ-E        ЗАГАЛЬНИЙ              NaN       NaN   \n",
       "3        СІДЛОВИЙ ТЯГАЧ-E  СПЕЦІАЛІЗОВАНИЙ  ДИЗЕЛЬНЕ ПАЛИВО   11116.0   \n",
       "4  ПР-БОРТОВИЙ-ТЕНТОВАНИЙ        ЗАГАЛЬНИЙ              NaN       NaN   \n",
       "\n",
       "   own_weight  total_weight n_reg_new  \n",
       "0      1060.0        1460.0  08ВА8008  \n",
       "1       190.0         700.0  АЕ3999ХМ  \n",
       "2      6694.0       35000.0  АС3826ХТ  \n",
       "3     10880.0       24000.0  АС4142ВЕ  \n",
       "4      5050.0       18000.0  АС0397ХТ  "
      ]
     },
     "execution_count": 10,
     "metadata": {},
     "output_type": "execute_result"
    }
   ],
   "source": [
    "df.head()"
   ]
  },
  {
   "cell_type": "markdown",
   "metadata": {},
   "source": [
    "### 1.5. Translate at least 3 attributes’ values to english (color, kind, etc.)."
   ]
  },
  {
   "cell_type": "code",
   "execution_count": 11,
   "metadata": {},
   "outputs": [
    {
     "data": {
      "text/plain": [
       "{'БІЛИЙ',\n",
       " 'БЕЖЕВИЙ',\n",
       " 'ЖОВТИЙ',\n",
       " 'ЗЕЛЕНИЙ',\n",
       " 'КОРИЧНЕВИЙ',\n",
       " 'НЕВИЗНАЧЕНИЙ',\n",
       " 'ОРАНЖЕВИЙ',\n",
       " 'СІРИЙ',\n",
       " 'СИНІЙ',\n",
       " 'ФІОЛЕТОВИЙ',\n",
       " 'ЧЕРВОНИЙ',\n",
       " 'ЧОРНИЙ'}"
      ]
     },
     "execution_count": 11,
     "metadata": {},
     "output_type": "execute_result"
    }
   ],
   "source": [
    "set(df.color)"
   ]
  },
  {
   "cell_type": "code",
   "execution_count": 12,
   "metadata": {},
   "outputs": [],
   "source": [
    "colors = {'БІЛИЙ': 'white',\n",
    " 'БЕЖЕВИЙ': 'beige',\n",
    " 'ЖОВТИЙ': 'yellow',\n",
    " 'ЗЕЛЕНИЙ': 'green',\n",
    " 'КОРИЧНЕВИЙ': 'brown',\n",
    " 'НЕВИЗНАЧЕНИЙ': 'unknown',\n",
    " 'ОРАНЖЕВИЙ': 'orange',\n",
    " 'СІРИЙ': 'grey',\n",
    " 'СИНІЙ': 'blue',\n",
    " 'ФІОЛЕТОВИЙ': 'purple',\n",
    " 'ЧЕРВОНИЙ': 'red',\n",
    " 'ЧОРНИЙ': 'black'}"
   ]
  },
  {
   "cell_type": "code",
   "execution_count": 13,
   "metadata": {},
   "outputs": [
    {
     "data": {
      "text/plain": [
       "{'АВТОБУС',\n",
       " 'ВАНТАЖНИЙ',\n",
       " 'КВАДРОЦИКЛ',\n",
       " 'ЛЕГКОВИЙ',\n",
       " 'МОПЕД',\n",
       " 'МОТОЦИКЛ',\n",
       " 'НАПІВПРИЧІП',\n",
       " 'ПРИЧІП',\n",
       " 'СПЕЦІАЛІЗОВАНІ',\n",
       " 'ТРИЦИКЛ'}"
      ]
     },
     "execution_count": 13,
     "metadata": {},
     "output_type": "execute_result"
    }
   ],
   "source": [
    "set(df.kind)"
   ]
  },
  {
   "cell_type": "code",
   "execution_count": 14,
   "metadata": {},
   "outputs": [],
   "source": [
    "vehicle_type = {'АВТОБУС': 'bus',\n",
    " 'ВАНТАЖНИЙ': 'truck' ,\n",
    " 'КВАДРОЦИКЛ': 'quadricycle' ,\n",
    " 'ЛЕГКОВИЙ': 'car',\n",
    " 'МОПЕД': 'motorbike',\n",
    " 'МОТОЦИКЛ': 'motorcycle',\n",
    " 'НАПІВПРИЧІП': 'semi-trailer',\n",
    " 'ПРИЧІП': 'trailer',\n",
    " 'СПЕЦІАЛІЗОВАНІ': 'special',\n",
    " 'ТРИЦИКЛ': 'tricicle'}"
   ]
  },
  {
   "cell_type": "code",
   "execution_count": 15,
   "metadata": {},
   "outputs": [
    {
     "data": {
      "text/plain": [
       "{'ЗАГАЛЬНИЙ', 'СПЕЦІАЛІЗОВАНИЙ', 'СПЕЦІАЛЬНИЙ'}"
      ]
     },
     "execution_count": 15,
     "metadata": {},
     "output_type": "execute_result"
    }
   ],
   "source": [
    "set(df.purpose)"
   ]
  },
  {
   "cell_type": "code",
   "execution_count": 16,
   "metadata": {},
   "outputs": [],
   "source": [
    "purpose = {'ЗАГАЛЬНИЙ': 'general', 'СПЕЦІАЛІЗОВАНИЙ': 'specialized', 'СПЕЦІАЛЬНИЙ': 'speial'}"
   ]
  },
  {
   "cell_type": "code",
   "execution_count": 17,
   "metadata": {},
   "outputs": [],
   "source": [
    "df = df.replace({\"color\": colors, \"kind\": vehicle_type, \"purpose\": purpose})"
   ]
  },
  {
   "cell_type": "code",
   "execution_count": 18,
   "metadata": {},
   "outputs": [
    {
     "data": {
      "text/html": [
       "<div>\n",
       "<style scoped>\n",
       "    .dataframe tbody tr th:only-of-type {\n",
       "        vertical-align: middle;\n",
       "    }\n",
       "\n",
       "    .dataframe tbody tr th {\n",
       "        vertical-align: top;\n",
       "    }\n",
       "\n",
       "    .dataframe thead th {\n",
       "        text-align: right;\n",
       "    }\n",
       "</style>\n",
       "<table border=\"1\" class=\"dataframe\">\n",
       "  <thead>\n",
       "    <tr style=\"text-align: right;\">\n",
       "      <th></th>\n",
       "      <th>person</th>\n",
       "      <th>reg_addr_koatuu</th>\n",
       "      <th>d_reg</th>\n",
       "      <th>dep_code</th>\n",
       "      <th>dep</th>\n",
       "      <th>brand</th>\n",
       "      <th>model</th>\n",
       "      <th>make_year</th>\n",
       "      <th>color</th>\n",
       "      <th>kind</th>\n",
       "      <th>body</th>\n",
       "      <th>purpose</th>\n",
       "      <th>fuel</th>\n",
       "      <th>capacity</th>\n",
       "      <th>own_weight</th>\n",
       "      <th>total_weight</th>\n",
       "      <th>n_reg_new</th>\n",
       "    </tr>\n",
       "  </thead>\n",
       "  <tbody>\n",
       "    <tr>\n",
       "      <th>0</th>\n",
       "      <td>P</td>\n",
       "      <td>2.310136e+09</td>\n",
       "      <td>2017-01-03</td>\n",
       "      <td>2341</td>\n",
       "      <td>Центр 2341</td>\n",
       "      <td>ВАЗ  210700-20</td>\n",
       "      <td>210700-20</td>\n",
       "      <td>2008</td>\n",
       "      <td>green</td>\n",
       "      <td>car</td>\n",
       "      <td>СЕДАН-B</td>\n",
       "      <td>general</td>\n",
       "      <td>БЕНЗИН</td>\n",
       "      <td>1451.0</td>\n",
       "      <td>1060.0</td>\n",
       "      <td>1460.0</td>\n",
       "      <td>08ВА8008</td>\n",
       "    </tr>\n",
       "    <tr>\n",
       "      <th>1</th>\n",
       "      <td>P</td>\n",
       "      <td>1.210138e+09</td>\n",
       "      <td>2017-01-03</td>\n",
       "      <td>1248</td>\n",
       "      <td>Центр 1248</td>\n",
       "      <td>ПА  004</td>\n",
       "      <td>004</td>\n",
       "      <td>2015</td>\n",
       "      <td>green</td>\n",
       "      <td>trailer</td>\n",
       "      <td>ПР-ЛЕГКОВИЙ-B</td>\n",
       "      <td>general</td>\n",
       "      <td>NaN</td>\n",
       "      <td>NaN</td>\n",
       "      <td>190.0</td>\n",
       "      <td>700.0</td>\n",
       "      <td>АЕ3999ХМ</td>\n",
       "    </tr>\n",
       "    <tr>\n",
       "      <th>2</th>\n",
       "      <td>P</td>\n",
       "      <td>7.101000e+08</td>\n",
       "      <td>2017-01-03</td>\n",
       "      <td>741</td>\n",
       "      <td>Центр 0741</td>\n",
       "      <td>SCHMITZ  SPR 24L</td>\n",
       "      <td>SPR 24L</td>\n",
       "      <td>2003</td>\n",
       "      <td>red</td>\n",
       "      <td>semi-trailer</td>\n",
       "      <td>Н/ПР-БОРТОВИЙ-E</td>\n",
       "      <td>general</td>\n",
       "      <td>NaN</td>\n",
       "      <td>NaN</td>\n",
       "      <td>6694.0</td>\n",
       "      <td>35000.0</td>\n",
       "      <td>АС3826ХТ</td>\n",
       "    </tr>\n",
       "    <tr>\n",
       "      <th>3</th>\n",
       "      <td>P</td>\n",
       "      <td>7.101000e+08</td>\n",
       "      <td>2017-01-03</td>\n",
       "      <td>741</td>\n",
       "      <td>Центр 0741</td>\n",
       "      <td>RENAULT  PREMIUM 420</td>\n",
       "      <td>PREMIUM 420</td>\n",
       "      <td>2004</td>\n",
       "      <td>white</td>\n",
       "      <td>truck</td>\n",
       "      <td>СІДЛОВИЙ ТЯГАЧ-E</td>\n",
       "      <td>specialized</td>\n",
       "      <td>ДИЗЕЛЬНЕ ПАЛИВО</td>\n",
       "      <td>11116.0</td>\n",
       "      <td>10880.0</td>\n",
       "      <td>24000.0</td>\n",
       "      <td>АС4142ВЕ</td>\n",
       "    </tr>\n",
       "    <tr>\n",
       "      <th>4</th>\n",
       "      <td>P</td>\n",
       "      <td>7.101000e+08</td>\n",
       "      <td>2017-01-03</td>\n",
       "      <td>741</td>\n",
       "      <td>Центр 0741</td>\n",
       "      <td>WIELTON  PC16K</td>\n",
       "      <td>PC16K</td>\n",
       "      <td>2004</td>\n",
       "      <td>grey</td>\n",
       "      <td>trailer</td>\n",
       "      <td>ПР-БОРТОВИЙ-ТЕНТОВАНИЙ</td>\n",
       "      <td>general</td>\n",
       "      <td>NaN</td>\n",
       "      <td>NaN</td>\n",
       "      <td>5050.0</td>\n",
       "      <td>18000.0</td>\n",
       "      <td>АС0397ХТ</td>\n",
       "    </tr>\n",
       "  </tbody>\n",
       "</table>\n",
       "</div>"
      ],
      "text/plain": [
       "  person  reg_addr_koatuu       d_reg  dep_code         dep  \\\n",
       "0      P     2.310136e+09  2017-01-03      2341  Центр 2341   \n",
       "1      P     1.210138e+09  2017-01-03      1248  Центр 1248   \n",
       "2      P     7.101000e+08  2017-01-03       741  Центр 0741   \n",
       "3      P     7.101000e+08  2017-01-03       741  Центр 0741   \n",
       "4      P     7.101000e+08  2017-01-03       741  Центр 0741   \n",
       "\n",
       "                  brand        model  make_year  color          kind  \\\n",
       "0        ВАЗ  210700-20    210700-20       2008  green           car   \n",
       "1               ПА  004          004       2015  green       trailer   \n",
       "2      SCHMITZ  SPR 24L      SPR 24L       2003    red  semi-trailer   \n",
       "3  RENAULT  PREMIUM 420  PREMIUM 420       2004  white         truck   \n",
       "4        WIELTON  PC16K        PC16K       2004   grey       trailer   \n",
       "\n",
       "                     body      purpose             fuel  capacity  own_weight  \\\n",
       "0                 СЕДАН-B      general           БЕНЗИН    1451.0      1060.0   \n",
       "1           ПР-ЛЕГКОВИЙ-B      general              NaN       NaN       190.0   \n",
       "2         Н/ПР-БОРТОВИЙ-E      general              NaN       NaN      6694.0   \n",
       "3        СІДЛОВИЙ ТЯГАЧ-E  specialized  ДИЗЕЛЬНЕ ПАЛИВО   11116.0     10880.0   \n",
       "4  ПР-БОРТОВИЙ-ТЕНТОВАНИЙ      general              NaN       NaN      5050.0   \n",
       "\n",
       "   total_weight n_reg_new  \n",
       "0        1460.0  08ВА8008  \n",
       "1         700.0  АЕ3999ХМ  \n",
       "2       35000.0  АС3826ХТ  \n",
       "3       24000.0  АС4142ВЕ  \n",
       "4       18000.0  АС0397ХТ  "
      ]
     },
     "execution_count": 18,
     "metadata": {},
     "output_type": "execute_result"
    }
   ],
   "source": [
    "df.head()"
   ]
  },
  {
   "cell_type": "markdown",
   "metadata": {},
   "source": [
    "### 1.6. Think about which column names are not clear enough and change them."
   ]
  },
  {
   "cell_type": "code",
   "execution_count": 19,
   "metadata": {},
   "outputs": [
    {
     "data": {
      "text/plain": [
       "{'J', 'P'}"
      ]
     },
     "execution_count": 19,
     "metadata": {},
     "output_type": "execute_result"
    }
   ],
   "source": [
    "# It was hard to figure out what some columns mean, so after a research I have following assumptions\n",
    "\n",
    "# This means if person is a legal or private entity (from Ukrainian  juridical/private person)\n",
    "set(df.person)"
   ]
  },
  {
   "cell_type": "code",
   "execution_count": 20,
   "metadata": {},
   "outputs": [],
   "source": [
    "# reg_addr_koatuu - Державний класифікатор об'єктів адміністративно-територіального устрою України (КОАТУУ)\n",
    "# We need it to detect the region in Ukraine with specific cars"
   ]
  },
  {
   "cell_type": "markdown",
   "metadata": {},
   "source": [
    "### 1.7. What is the possible usage of this data? Give 2-3 examples?"
   ]
  },
  {
   "cell_type": "markdown",
   "metadata": {},
   "source": [
    "This data could be used to \n",
    "- predict cars that would be popular in Ukrainian market\n",
    "- analyse cars demand (incluing year, model, brand)\n",
    "- analyse type of fuel popular among different car types"
   ]
  },
  {
   "cell_type": "markdown",
   "metadata": {},
   "source": [
    "### 1.8. Save the result of your work as a regular .csv file."
   ]
  },
  {
   "cell_type": "code",
   "execution_count": 21,
   "metadata": {},
   "outputs": [],
   "source": [
    "pd.DataFrame.to_csv(df, \"cars_clean.csv\")"
   ]
  },
  {
   "cell_type": "markdown",
   "metadata": {},
   "source": [
    "### 1.9. What is the most popular car and car color in Ukraine?"
   ]
  },
  {
   "cell_type": "code",
   "execution_count": 22,
   "metadata": {},
   "outputs": [],
   "source": [
    "import matplotlib.pyplot as plt\n",
    "import seaborn as sns"
   ]
  },
  {
   "cell_type": "code",
   "execution_count": 23,
   "metadata": {},
   "outputs": [
    {
     "data": {
      "text/plain": [
       "<matplotlib.axes._subplots.AxesSubplot at 0x7f8b2cfd0048>"
      ]
     },
     "execution_count": 23,
     "metadata": {},
     "output_type": "execute_result"
    },
    {
     "data": {
      "image/png": "[encoded data removed]",
      "text/plain": [
       "<Figure size 842.4x595.44 with 1 Axes>"
      ]
     },
     "metadata": {},
     "output_type": "display_data"
    }
   ],
   "source": [
    "# Most popular color\n",
    "\n",
    "sns.set(rc={'figure.figsize':(11.7,8.27)})\n",
    "df_color_plot = df[df['color'] != \"unknown\"]\n",
    "sns.countplot(df_color_plot['color'],\n",
    "              order = df_color_plot['color'].value_counts().index,\n",
    "              palette={color: color for color in df_color_plot['color'].unique()})"
   ]
  },
  {
   "cell_type": "code",
   "execution_count": 24,
   "metadata": {},
   "outputs": [],
   "source": [
    "# Top 5 most popular car brands\n",
    "\n",
    "brand_dic = df['brand'].value_counts().to_dict()\n",
    "brand_names_top = list(brand_dic.keys())[:5]\n",
    "brand_values_top = list(brand_dic.values())[:5]"
   ]
  },
  {
   "cell_type": "code",
   "execution_count": 25,
   "metadata": {},
   "outputs": [
    {
     "data": {
      "text/plain": [
       "[26721, 22696, 18761, 16148, 14514]"
      ]
     },
     "execution_count": 25,
     "metadata": {},
     "output_type": "execute_result"
    }
   ],
   "source": [
    "brand_values_top"
   ]
  },
  {
   "cell_type": "code",
   "execution_count": 26,
   "metadata": {},
   "outputs": [
    {
     "data": {
      "text/plain": [
       "<BarContainer object of 5 artists>"
      ]
     },
     "execution_count": 26,
     "metadata": {},
     "output_type": "execute_result"
    },
    {
     "data": {
      "image/png": "[encoded data removed]",
      "text/plain": [
       "<Figure size 1008x432 with 1 Axes>"
      ]
     },
     "metadata": {},
     "output_type": "display_data"
    }
   ],
   "source": [
    "plt.figure(figsize=(14,6))\n",
    "plt.bar(brand_names_top, brand_values_top, width=0.6)"
   ]
  },
  {
   "cell_type": "code",
   "execution_count": 27,
   "metadata": {},
   "outputs": [],
   "source": [
    "# The most popular car brand and color\n",
    "\n",
    "df['brand_color'] = df['brand'] + \" \" + df['color']"
   ]
  },
  {
   "cell_type": "code",
   "execution_count": 28,
   "metadata": {},
   "outputs": [],
   "source": [
    "bc_dic = df['brand_color'].value_counts().to_dict()\n",
    "bc_names_top = [i.split() for i in list(bc_dic.keys())[:10]]\n",
    "bc_values_top = list(bc_dic.values())[:10]"
   ]
  },
  {
   "cell_type": "code",
   "execution_count": 29,
   "metadata": {},
   "outputs": [],
   "source": [
    "bc_colors_top = [i[-1] for i in bc_names_top]\n",
    "bc_brand_top = [\" \".join(i[:-1]) + \"\\n\" +i[-1].upper() for i in bc_names_top]"
   ]
  },
  {
   "cell_type": "code",
   "execution_count": 30,
   "metadata": {},
   "outputs": [
    {
     "data": {
      "text/plain": [
       "<BarContainer object of 10 artists>"
      ]
     },
     "execution_count": 30,
     "metadata": {},
     "output_type": "execute_result"
    },
    {
     "data": {
      "image/png": "[encoded data removed]",
      "text/plain": [
       "<Figure size 1440x432 with 1 Axes>"
      ]
     },
     "metadata": {},
     "output_type": "display_data"
    }
   ],
   "source": [
    "plt.figure(figsize=(20,6))\n",
    "plt.bar(bc_brand_top, bc_values_top, width=0.4, color=bc_colors_top)"
   ]
  }
 ],
 "metadata": {
  "kernelspec": {
   "display_name": "Python 3",
   "language": "python",
   "name": "python3"
  },
  "language_info": {
   "codemirror_mode": {
    "name": "ipython",
    "version": 3
   },
   "file_extension": ".py",
   "mimetype": "text/x-python",
   "name": "python",
   "nbconvert_exporter": "python",
   "pygments_lexer": "ipython3",
   "version": "3.6.6"
  }
 },
 "nbformat": 4,
 "nbformat_minor": 2
}
